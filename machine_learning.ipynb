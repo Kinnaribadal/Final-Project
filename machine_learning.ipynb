{
 "cells": [
  {
   "cell_type": "code",
   "execution_count": 1,
   "metadata": {},
   "outputs": [],
   "source": [
    "#Dependencies\n",
    "from sklearn import tree\n",
    "import pandas as pd\n",
    "import os\n",
    "import joblib"
   ]
  },
  {
   "cell_type": "code",
   "execution_count": 2,
   "metadata": {},
   "outputs": [
    {
     "data": {
      "text/html": [
       "<div>\n",
       "<style scoped>\n",
       "    .dataframe tbody tr th:only-of-type {\n",
       "        vertical-align: middle;\n",
       "    }\n",
       "\n",
       "    .dataframe tbody tr th {\n",
       "        vertical-align: top;\n",
       "    }\n",
       "\n",
       "    .dataframe thead th {\n",
       "        text-align: right;\n",
       "    }\n",
       "</style>\n",
       "<table border=\"1\" class=\"dataframe\">\n",
       "  <thead>\n",
       "    <tr style=\"text-align: right;\">\n",
       "      <th></th>\n",
       "      <th>ID</th>\n",
       "      <th>Gender</th>\n",
       "      <th>Age</th>\n",
       "      <th>Caffeine (mg)</th>\n",
       "      <th>Alcohol (gm)</th>\n",
       "      <th>Weight (kg)</th>\n",
       "      <th>Standing Height (cm)</th>\n",
       "      <th>Pulse regular or irregular</th>\n",
       "      <th>Systolic: Blood pressure mm Hg</th>\n",
       "      <th>Direct HDL-Cholesterol (mg/dL)</th>\n",
       "      <th>Avg Drinks per Day</th>\n",
       "      <th>Smoker?</th>\n",
       "    </tr>\n",
       "  </thead>\n",
       "  <tbody>\n",
       "    <tr>\n",
       "      <th>0</th>\n",
       "      <td>73557</td>\n",
       "      <td>0</td>\n",
       "      <td>69</td>\n",
       "      <td>203.0</td>\n",
       "      <td>0.0</td>\n",
       "      <td>78.3</td>\n",
       "      <td>171.3</td>\n",
       "      <td>0</td>\n",
       "      <td>122.0</td>\n",
       "      <td>65.0</td>\n",
       "      <td>1.0</td>\n",
       "      <td>0.0</td>\n",
       "    </tr>\n",
       "    <tr>\n",
       "      <th>1</th>\n",
       "      <td>73558</td>\n",
       "      <td>0</td>\n",
       "      <td>54</td>\n",
       "      <td>240.0</td>\n",
       "      <td>119.0</td>\n",
       "      <td>89.5</td>\n",
       "      <td>176.8</td>\n",
       "      <td>0</td>\n",
       "      <td>156.0</td>\n",
       "      <td>50.0</td>\n",
       "      <td>4.0</td>\n",
       "      <td>1.0</td>\n",
       "    </tr>\n",
       "    <tr>\n",
       "      <th>2</th>\n",
       "      <td>73562</td>\n",
       "      <td>0</td>\n",
       "      <td>56</td>\n",
       "      <td>144.0</td>\n",
       "      <td>0.0</td>\n",
       "      <td>105.0</td>\n",
       "      <td>158.7</td>\n",
       "      <td>0</td>\n",
       "      <td>160.0</td>\n",
       "      <td>38.0</td>\n",
       "      <td>1.0</td>\n",
       "      <td>0.0</td>\n",
       "    </tr>\n",
       "    <tr>\n",
       "      <th>3</th>\n",
       "      <td>73566</td>\n",
       "      <td>1</td>\n",
       "      <td>56</td>\n",
       "      <td>266.0</td>\n",
       "      <td>22.3</td>\n",
       "      <td>61.8</td>\n",
       "      <td>152.8</td>\n",
       "      <td>0</td>\n",
       "      <td>128.0</td>\n",
       "      <td>59.0</td>\n",
       "      <td>1.0</td>\n",
       "      <td>1.0</td>\n",
       "    </tr>\n",
       "    <tr>\n",
       "      <th>4</th>\n",
       "      <td>73567</td>\n",
       "      <td>0</td>\n",
       "      <td>65</td>\n",
       "      <td>43.0</td>\n",
       "      <td>39.1</td>\n",
       "      <td>65.3</td>\n",
       "      <td>172.4</td>\n",
       "      <td>0</td>\n",
       "      <td>140.0</td>\n",
       "      <td>79.0</td>\n",
       "      <td>3.0</td>\n",
       "      <td>1.0</td>\n",
       "    </tr>\n",
       "  </tbody>\n",
       "</table>\n",
       "</div>"
      ],
      "text/plain": [
       "      ID  Gender  Age  Caffeine (mg)  Alcohol (gm)  Weight (kg)  \\\n",
       "0  73557       0   69          203.0           0.0         78.3   \n",
       "1  73558       0   54          240.0         119.0         89.5   \n",
       "2  73562       0   56          144.0           0.0        105.0   \n",
       "3  73566       1   56          266.0          22.3         61.8   \n",
       "4  73567       0   65           43.0          39.1         65.3   \n",
       "\n",
       "   Standing Height (cm)  Pulse regular or irregular  \\\n",
       "0                 171.3                           0   \n",
       "1                 176.8                           0   \n",
       "2                 158.7                           0   \n",
       "3                 152.8                           0   \n",
       "4                 172.4                           0   \n",
       "\n",
       "   Systolic: Blood pressure mm Hg  Direct HDL-Cholesterol (mg/dL)  \\\n",
       "0                           122.0                            65.0   \n",
       "1                           156.0                            50.0   \n",
       "2                           160.0                            38.0   \n",
       "3                           128.0                            59.0   \n",
       "4                           140.0                            79.0   \n",
       "\n",
       "   Avg Drinks per Day  Smoker?  \n",
       "0                 1.0      0.0  \n",
       "1                 4.0      1.0  \n",
       "2                 1.0      0.0  \n",
       "3                 1.0      1.0  \n",
       "4                 3.0      1.0  "
      ]
     },
     "execution_count": 2,
     "metadata": {},
     "output_type": "execute_result"
    }
   ],
   "source": [
    "#Import CSV\n",
    "df = pd.read_csv('Datasets/cleaned_data.csv')\n",
    "df.head()"
   ]
  },
  {
   "cell_type": "code",
   "execution_count": 3,
   "metadata": {},
   "outputs": [],
   "source": [
    "#Target df\n",
    "target = df['Pulse regular or irregular']\n",
    "target_names = ['regular', 'irregular']"
   ]
  },
  {
   "cell_type": "code",
   "execution_count": 4,
   "metadata": {},
   "outputs": [
    {
     "data": {
      "text/html": [
       "<div>\n",
       "<style scoped>\n",
       "    .dataframe tbody tr th:only-of-type {\n",
       "        vertical-align: middle;\n",
       "    }\n",
       "\n",
       "    .dataframe tbody tr th {\n",
       "        vertical-align: top;\n",
       "    }\n",
       "\n",
       "    .dataframe thead th {\n",
       "        text-align: right;\n",
       "    }\n",
       "</style>\n",
       "<table border=\"1\" class=\"dataframe\">\n",
       "  <thead>\n",
       "    <tr style=\"text-align: right;\">\n",
       "      <th></th>\n",
       "      <th>Gender</th>\n",
       "      <th>Age</th>\n",
       "      <th>Caffeine (mg)</th>\n",
       "      <th>Alcohol (gm)</th>\n",
       "      <th>Weight (kg)</th>\n",
       "      <th>Standing Height (cm)</th>\n",
       "      <th>Systolic: Blood pressure mm Hg</th>\n",
       "      <th>Direct HDL-Cholesterol (mg/dL)</th>\n",
       "      <th>Avg Drinks per Day</th>\n",
       "      <th>Smoker?</th>\n",
       "    </tr>\n",
       "  </thead>\n",
       "  <tbody>\n",
       "    <tr>\n",
       "      <th>0</th>\n",
       "      <td>0</td>\n",
       "      <td>69</td>\n",
       "      <td>203.0</td>\n",
       "      <td>0.0</td>\n",
       "      <td>78.3</td>\n",
       "      <td>171.3</td>\n",
       "      <td>122.0</td>\n",
       "      <td>65.0</td>\n",
       "      <td>1.0</td>\n",
       "      <td>0.0</td>\n",
       "    </tr>\n",
       "    <tr>\n",
       "      <th>1</th>\n",
       "      <td>0</td>\n",
       "      <td>54</td>\n",
       "      <td>240.0</td>\n",
       "      <td>119.0</td>\n",
       "      <td>89.5</td>\n",
       "      <td>176.8</td>\n",
       "      <td>156.0</td>\n",
       "      <td>50.0</td>\n",
       "      <td>4.0</td>\n",
       "      <td>1.0</td>\n",
       "    </tr>\n",
       "    <tr>\n",
       "      <th>2</th>\n",
       "      <td>0</td>\n",
       "      <td>56</td>\n",
       "      <td>144.0</td>\n",
       "      <td>0.0</td>\n",
       "      <td>105.0</td>\n",
       "      <td>158.7</td>\n",
       "      <td>160.0</td>\n",
       "      <td>38.0</td>\n",
       "      <td>1.0</td>\n",
       "      <td>0.0</td>\n",
       "    </tr>\n",
       "    <tr>\n",
       "      <th>3</th>\n",
       "      <td>1</td>\n",
       "      <td>56</td>\n",
       "      <td>266.0</td>\n",
       "      <td>22.3</td>\n",
       "      <td>61.8</td>\n",
       "      <td>152.8</td>\n",
       "      <td>128.0</td>\n",
       "      <td>59.0</td>\n",
       "      <td>1.0</td>\n",
       "      <td>1.0</td>\n",
       "    </tr>\n",
       "    <tr>\n",
       "      <th>4</th>\n",
       "      <td>0</td>\n",
       "      <td>65</td>\n",
       "      <td>43.0</td>\n",
       "      <td>39.1</td>\n",
       "      <td>65.3</td>\n",
       "      <td>172.4</td>\n",
       "      <td>140.0</td>\n",
       "      <td>79.0</td>\n",
       "      <td>3.0</td>\n",
       "      <td>1.0</td>\n",
       "    </tr>\n",
       "  </tbody>\n",
       "</table>\n",
       "</div>"
      ],
      "text/plain": [
       "   Gender  Age  Caffeine (mg)  Alcohol (gm)  Weight (kg)  \\\n",
       "0       0   69          203.0           0.0         78.3   \n",
       "1       0   54          240.0         119.0         89.5   \n",
       "2       0   56          144.0           0.0        105.0   \n",
       "3       1   56          266.0          22.3         61.8   \n",
       "4       0   65           43.0          39.1         65.3   \n",
       "\n",
       "   Standing Height (cm)  Systolic: Blood pressure mm Hg  \\\n",
       "0                 171.3                           122.0   \n",
       "1                 176.8                           156.0   \n",
       "2                 158.7                           160.0   \n",
       "3                 152.8                           128.0   \n",
       "4                 172.4                           140.0   \n",
       "\n",
       "   Direct HDL-Cholesterol (mg/dL)  Avg Drinks per Day  Smoker?  \n",
       "0                            65.0                 1.0      0.0  \n",
       "1                            50.0                 4.0      1.0  \n",
       "2                            38.0                 1.0      0.0  \n",
       "3                            59.0                 1.0      1.0  \n",
       "4                            79.0                 3.0      1.0  "
      ]
     },
     "execution_count": 4,
     "metadata": {},
     "output_type": "execute_result"
    }
   ],
   "source": [
    "#Variable df\n",
    "data = df.drop(['Pulse regular or irregular', 'ID'], axis=1)\n",
    "feature_names = data.columns\n",
    "data.head()"
   ]
  },
  {
   "cell_type": "code",
   "execution_count": 5,
   "metadata": {},
   "outputs": [],
   "source": [
    "from sklearn.model_selection import train_test_split\n",
    "X_train, X_test, y_train, y_test = train_test_split(data, target, random_state=74)"
   ]
  },
  {
   "cell_type": "code",
   "execution_count": 6,
   "metadata": {},
   "outputs": [
    {
     "data": {
      "text/plain": [
       "0.949438202247191"
      ]
     },
     "execution_count": 6,
     "metadata": {},
     "output_type": "execute_result"
    }
   ],
   "source": [
    "clf = tree.DecisionTreeClassifier()\n",
    "clf = clf.fit(X_train, y_train)\n",
    "clf.score(X_test, y_test)"
   ]
  },
  {
   "cell_type": "code",
   "execution_count": 7,
   "metadata": {},
   "outputs": [
    {
     "data": {
      "text/plain": [
       "0.9662921348314607"
      ]
     },
     "execution_count": 7,
     "metadata": {},
     "output_type": "execute_result"
    }
   ],
   "source": [
    "from sklearn.ensemble import RandomForestClassifier\n",
    "rf = RandomForestClassifier(n_estimators=200)\n",
    "rf = rf.fit(X_train, y_train)\n",
    "rf.score(X_test, y_test)"
   ]
  },
  {
   "cell_type": "code",
   "execution_count": null,
   "metadata": {},
   "outputs": [],
   "source": []
  },
  {
   "cell_type": "code",
   "execution_count": 8,
   "metadata": {},
   "outputs": [
    {
     "data": {
      "text/plain": [
       "[(0.17368647714526886, 'Weight (kg)'),\n",
       " (0.1675460529276453, 'Standing Height (cm)'),\n",
       " (0.14726379858112593, 'Caffeine (mg)'),\n",
       " (0.1369947120612948, 'Age'),\n",
       " (0.1161020760101079, 'Direct HDL-Cholesterol (mg/dL)'),\n",
       " (0.11520320850281532, 'Systolic: Blood pressure mm Hg'),\n",
       " (0.060651700852683496, 'Alcohol (gm)'),\n",
       " (0.05403943943292349, 'Avg Drinks per Day'),\n",
       " (0.016246262581230346, 'Gender'),\n",
       " (0.012266271904904733, 'Smoker?')]"
      ]
     },
     "execution_count": 8,
     "metadata": {},
     "output_type": "execute_result"
    }
   ],
   "source": [
    "sorted(zip(rf.feature_importances_, feature_names), reverse=True)"
   ]
  },
  {
   "cell_type": "code",
   "execution_count": 9,
   "metadata": {},
   "outputs": [
    {
     "data": {
      "text/html": [
       "<div>\n",
       "<style scoped>\n",
       "    .dataframe tbody tr th:only-of-type {\n",
       "        vertical-align: middle;\n",
       "    }\n",
       "\n",
       "    .dataframe tbody tr th {\n",
       "        vertical-align: top;\n",
       "    }\n",
       "\n",
       "    .dataframe thead th {\n",
       "        text-align: right;\n",
       "    }\n",
       "</style>\n",
       "<table border=\"1\" class=\"dataframe\">\n",
       "  <thead>\n",
       "    <tr style=\"text-align: right;\">\n",
       "      <th></th>\n",
       "      <th>Prediction</th>\n",
       "      <th>Actual</th>\n",
       "    </tr>\n",
       "  </thead>\n",
       "  <tbody>\n",
       "    <tr>\n",
       "      <th>1216</th>\n",
       "      <td>0</td>\n",
       "      <td>1</td>\n",
       "    </tr>\n",
       "    <tr>\n",
       "      <th>572</th>\n",
       "      <td>0</td>\n",
       "      <td>0</td>\n",
       "    </tr>\n",
       "    <tr>\n",
       "      <th>740</th>\n",
       "      <td>0</td>\n",
       "      <td>0</td>\n",
       "    </tr>\n",
       "    <tr>\n",
       "      <th>349</th>\n",
       "      <td>0</td>\n",
       "      <td>1</td>\n",
       "    </tr>\n",
       "    <tr>\n",
       "      <th>12</th>\n",
       "      <td>0</td>\n",
       "      <td>0</td>\n",
       "    </tr>\n",
       "    <tr>\n",
       "      <th>...</th>\n",
       "      <td>...</td>\n",
       "      <td>...</td>\n",
       "    </tr>\n",
       "    <tr>\n",
       "      <th>466</th>\n",
       "      <td>0</td>\n",
       "      <td>0</td>\n",
       "    </tr>\n",
       "    <tr>\n",
       "      <th>822</th>\n",
       "      <td>0</td>\n",
       "      <td>0</td>\n",
       "    </tr>\n",
       "    <tr>\n",
       "      <th>399</th>\n",
       "      <td>0</td>\n",
       "      <td>0</td>\n",
       "    </tr>\n",
       "    <tr>\n",
       "      <th>475</th>\n",
       "      <td>0</td>\n",
       "      <td>0</td>\n",
       "    </tr>\n",
       "    <tr>\n",
       "      <th>1037</th>\n",
       "      <td>0</td>\n",
       "      <td>0</td>\n",
       "    </tr>\n",
       "  </tbody>\n",
       "</table>\n",
       "<p>356 rows × 2 columns</p>\n",
       "</div>"
      ],
      "text/plain": [
       "      Prediction  Actual\n",
       "1216           0       1\n",
       "572            0       0\n",
       "740            0       0\n",
       "349            0       1\n",
       "12             0       0\n",
       "...          ...     ...\n",
       "466            0       0\n",
       "822            0       0\n",
       "399            0       0\n",
       "475            0       0\n",
       "1037           0       0\n",
       "\n",
       "[356 rows x 2 columns]"
      ]
     },
     "execution_count": 9,
     "metadata": {},
     "output_type": "execute_result"
    }
   ],
   "source": [
    "predictions = rf.predict(X_test)\n",
    "pd.DataFrame({\"Prediction\": predictions, \"Actual\": y_test})"
   ]
  },
  {
   "cell_type": "code",
   "execution_count": 10,
   "metadata": {},
   "outputs": [
    {
     "data": {
      "text/plain": [
       "['./random_forest.joblib']"
      ]
     },
     "execution_count": 10,
     "metadata": {},
     "output_type": "execute_result"
    }
   ],
   "source": [
    "joblib.dump(rf, \"./random_forest.joblib\")"
   ]
  },
  {
   "cell_type": "code",
   "execution_count": null,
   "metadata": {},
   "outputs": [],
   "source": [
    "#Import reduced CSV\n",
    "df_reduced = pd.read_csv('Datasets/cleaned_data_reduced.csv')\n",
    "df_reduced.head()"
   ]
  },
  {
   "cell_type": "code",
   "execution_count": null,
   "metadata": {},
   "outputs": [],
   "source": [
    "#Target df\n",
    "target2 = df_reduced['Pulse regular or irregular']\n",
    "target_names2 = ['regular', 'irregular']"
   ]
  },
  {
   "cell_type": "code",
   "execution_count": null,
   "metadata": {},
   "outputs": [],
   "source": [
    "#Variable df\n",
    "data2 = df_reduced.drop(['Pulse regular or irregular', 'ID'], axis=1)\n",
    "feature_names2 = data2.columns\n",
    "data2.head()"
   ]
  },
  {
   "cell_type": "code",
   "execution_count": null,
   "metadata": {},
   "outputs": [],
   "source": [
    "X_train2, X_test2, y_train2, y_test2 = train_test_split(data2, target2, random_state=74)"
   ]
  },
  {
   "cell_type": "code",
   "execution_count": null,
   "metadata": {},
   "outputs": [],
   "source": [
    "clf2 = tree.DecisionTreeClassifier()\n",
    "clf2 = clf2.fit(X_train2, y_train2)\n",
    "clf2.score(X_test2, y_test2)"
   ]
  },
  {
   "cell_type": "code",
   "execution_count": null,
   "metadata": {},
   "outputs": [],
   "source": [
    "rf2 = RandomForestClassifier(n_estimators=200)\n",
    "rf2 = rf2.fit(X_train2, y_train2)\n",
    "rf2.score(X_test2, y_test2)"
   ]
  },
  {
   "cell_type": "code",
   "execution_count": null,
   "metadata": {},
   "outputs": [],
   "source": [
    "sorted(zip(rf2.feature_importances_, feature_names), reverse=True)"
   ]
  },
  {
   "cell_type": "code",
   "execution_count": null,
   "metadata": {},
   "outputs": [],
   "source": [
    "predictions2 = rf2.predict(X_test2)\n",
    "pd.DataFrame({\"Prediction\": predictions2, \"Actual\": y_test2})"
   ]
  },
  {
   "cell_type": "code",
   "execution_count": null,
   "metadata": {},
   "outputs": [],
   "source": []
  },
  {
   "cell_type": "code",
   "execution_count": null,
   "metadata": {},
   "outputs": [],
   "source": []
  },
  {
   "cell_type": "code",
   "execution_count": null,
   "metadata": {},
   "outputs": [],
   "source": []
  }
 ],
 "metadata": {
  "kernelspec": {
   "display_name": "Python 3",
   "language": "python",
   "name": "python3"
  },
  "language_info": {
   "codemirror_mode": {
    "name": "ipython",
    "version": 3
   },
   "file_extension": ".py",
   "mimetype": "text/x-python",
   "name": "python",
   "nbconvert_exporter": "python",
   "pygments_lexer": "ipython3",
   "version": "3.8.3"
  }
 },
 "nbformat": 4,
 "nbformat_minor": 4
}
